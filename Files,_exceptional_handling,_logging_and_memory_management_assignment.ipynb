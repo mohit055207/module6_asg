{
  "nbformat": 4,
  "nbformat_minor": 0,
  "metadata": {
    "colab": {
      "provenance": []
    },
    "kernelspec": {
      "name": "python3",
      "display_name": "Python 3"
    },
    "language_info": {
      "name": "python"
    }
  },
  "cells": [
    {
      "cell_type": "markdown",
      "source": [
        "#Module 6 : Files, exceptional handling, logging and memory management"
      ],
      "metadata": {
        "id": "jIgmmr5kAJRi"
      }
    },
    {
      "cell_type": "markdown",
      "source": [
        "Theoretical questions"
      ],
      "metadata": {
        "id": "S03RgIalAQEj"
      }
    },
    {
      "cell_type": "markdown",
      "source": [
        "1. What is the difference between interpreted and compiled languages?\n",
        "-> the main difference between compiled and interpreted programming languages is in how they are processed. Compiled languages are translated into machine code before they are executed, while interpreted languages are translated into machine code at runtime by an interpreter."
      ],
      "metadata": {
        "id": "OV9u68d2AS42"
      }
    },
    {
      "cell_type": "markdown",
      "source": [
        "2. What is exception handling in Python?\n",
        "-> Exception handling in Python is a process of resolving errors that occur in a program. This involves catching exceptions, understanding what caused them, and then responding accordingly. Exceptions are errors that occur at runtime when the program is being executed."
      ],
      "metadata": {
        "id": "EfdlixzcAeom"
      }
    },
    {
      "cell_type": "markdown",
      "source": [
        "3. What is the purpose of the finally block in exception handling?\n",
        "-> The finally block in Java is a crucial part of exception handling. It is used to execute important code such as closing resources, regardless of whether an exception is thrown or not. The finally block always executes when the try block exits, ensuring that cleanup code runs."
      ],
      "metadata": {
        "id": "EV_KpusfAmFQ"
      }
    },
    {
      "cell_type": "markdown",
      "source": [
        "4. What is logging in Python?\n",
        "-> Python logging is a module that allows you to track events that occur while your program is running. You can use logging to record information about errors, warnings, and other events that occur during program execution."
      ],
      "metadata": {
        "id": "SZiNEiedAszJ"
      }
    },
    {
      "cell_type": "markdown",
      "source": [
        "5. What is the significance of the __del__ method in Python?\n",
        "-> The __del__ method in Python is a powerful tool for managing resource cleanup when objects are destroyed. It allows you to define specific actions that should be taken when an object is garbage collected, such as closing files, releasing locks, or closing network connections"
      ],
      "metadata": {
        "id": "WSndSBRwA018"
      }
    },
    {
      "cell_type": "markdown",
      "source": [
        "6. What is the difference between import and from ... import in Python?\n",
        "-> you should use the import statement when you need to use many attributes from a module, or when the module name is short and easy to remember. You should use the from statement when you only need to use a few attributes from a module, or when the module name is long and hard to remember."
      ],
      "metadata": {
        "id": "pDitcZ9bA_JF"
      }
    },
    {
      "cell_type": "markdown",
      "source": [
        "7. How can you handle multiple exceptions in Python?\n",
        "-> Python allows you to catch multiple exceptions in a single 'except' block by specifying them as a tuple. This feature is useful when different exceptions require similar handling logic. In this case, if either 'ExceptionType1' or 'ExceptionType2' is raised, the code within the 'except' block will be executed."
      ],
      "metadata": {
        "id": "NMN1VZU-BI3V"
      }
    },
    {
      "cell_type": "markdown",
      "source": [
        "8. What is the purpose of the with statement when handling files in Python?\n",
        "-> The with statement in Python is used to simplify the management of resources that need to be acquired and released in a specific order. It provides a way to wrap the execution of a block of code with methods defined by a context manager."
      ],
      "metadata": {
        "id": "q6HoaM4-BQZ7"
      }
    },
    {
      "cell_type": "markdown",
      "source": [
        "9. What is the difference between multithreading and multiprocessing?\n",
        "-> In multitasking, processes don't share the same resources, each process is allocated separate resources. While in multithreading, each process shares the same resources."
      ],
      "metadata": {
        "id": "cA4xqN4-BZw-"
      }
    },
    {
      "cell_type": "markdown",
      "source": [
        "10. What are the advantages of using logging in a program?\n",
        "-> The importance of logging and monitoring is evident with the many benefits it can provide, including:\n",
        "* Improved detection of problems.\n",
        "* Reduced response times for repairing issues.\n",
        "* More transparency throughout the system.\n",
        "* Better customer experience.\n",
        "* Increased security."
      ],
      "metadata": {
        "id": "LoCT4j3eVB7l"
      }
    },
    {
      "cell_type": "markdown",
      "source": [
        "11. What is memory management in Python?\n",
        "-> Python memory management is the process of allocating and dealing with memory so that your programs can run efficiently. One advantage of Python, compared to other programming languages, is that it can perform memory management tasks automatically."
      ],
      "metadata": {
        "id": "wMJUuJ1eVQiN"
      }
    },
    {
      "cell_type": "markdown",
      "source": [
        "12. What are the basic steps involved in exception handling in Python?\n",
        "-> In Python, exceptions are caught and handled using the 'try' and 'except' block. 'try' contains the code segment which is susceptible to error, while 'except' is where the program should jump in case an exception occurs. You can use multiple 'except' blocks for handling different types of exceptions."
      ],
      "metadata": {
        "id": "FE_YxXPJVtsH"
      }
    },
    {
      "cell_type": "markdown",
      "source": [
        "13. Why is memory management important in Python?\n",
        "-> Python memory management is the process of allocating and dealing with memory so that your programs can run efficiently. One advantage of Python, compared to other programming languages, is that it can perform memory management tasks automatically."
      ],
      "metadata": {
        "id": "6n8v_HpaV6qE"
      }
    },
    {
      "cell_type": "markdown",
      "source": [
        "14. What is the role of try and except in exception handling?\n",
        "-> A Try-Except statement is a code block that allows your program to take alternative actions in case an error occurs. Python will first attempt to execute the code in the try statement (code block 1). If no exception occurs, the except statement is skipped and the execution of the try statement is finished."
      ],
      "metadata": {
        "id": "yXZ32QX-WFAt"
      }
    },
    {
      "cell_type": "markdown",
      "source": [
        "15. How does Python's garbage collection system work?\n",
        "-> Garbage collection, an automatic memory management technique, is used by programming languages to deallocate memory that is no longer required by the program. The garbage collector in Python locates and releases memory occupied by objects that can no longer be accessed or referenced by the program's code."
      ],
      "metadata": {
        "id": "bS5tBSOlWWT7"
      }
    },
    {
      "cell_type": "markdown",
      "source": [
        "16.What is the purpose of the else block in exception handling?\n",
        "-> The 'else' block is useful when you want to perform specific actions when no exceptions occur. It can be used, for example, to execute additional code if the 'try' block succeeds in its operation and enhances the program flow."
      ],
      "metadata": {
        "id": "9jrSX9SfWhTu"
      }
    },
    {
      "cell_type": "markdown",
      "source": [
        "17. What are the common logging levels in Python?\n",
        "-> There are six levels for logging in Python; each level is associated with an integer that indicates the log severity: NOTSET=0, DEBUG=10, INFO=20, WARN=30, ERROR=40, and CRITICAL=50."
      ],
      "metadata": {
        "id": "3W8hFM_2WuPP"
      }
    },
    {
      "cell_type": "markdown",
      "source": [
        "18. What is the difference between os.fork() and multiprocessing in Python?\n",
        "-> The only real difference between the os.fork and multiprocessing.Process is portability and library overhead, since os.fork is not supported in windows, and the multiprocessing framework is included to make multiprocessing.Process work. This is because os.fork is called by multiprocessing.Process."
      ],
      "metadata": {
        "id": "8ZB_xqV4W4vT"
      }
    },
    {
      "cell_type": "markdown",
      "source": [
        "19. What is the importance of closing a file in Python?\n",
        "-> Closing a file is a crucial part of file management in programming, as it ensures the release of system resources, data integrity, and prevents data corruption. It is essential to close files after using them to maintain the stability and reliability of any application that involves file handling."
      ],
      "metadata": {
        "id": "L6YWfeHjXWDo"
      }
    },
    {
      "cell_type": "markdown",
      "source": [
        "20.  What is the difference between file.read() and file.readline() in Python?\n",
        "-> In Python, the `read()` method is used to read a specified number of characters from a file or input stream, while the `readline()` method is used to read a single line from a file or input stream. The `read()` method will read the entire content of the file or stream if no argument is provided, returning a string."
      ],
      "metadata": {
        "id": "C5iCq15SXjUS"
      }
    },
    {
      "cell_type": "markdown",
      "source": [
        "21. What is the logging module in Python used for?\n",
        "-> Python logging is a module that allows you to track events that occur while your program is running. You can use logging to record information about errors, warnings, and other events that occur during program execution. And logging is a useful tool for debugging, troubleshooting, and monitoring your program."
      ],
      "metadata": {
        "id": "pRRkk9GLXsPy"
      }
    },
    {
      "cell_type": "markdown",
      "source": [
        "22. What is the os module in Python used for in file handling?\n",
        "-> Python has a built-in os module with methods for interacting with the operating system, like creating files and directories, management of files and directories, input, output, environment variables, process management, etc. The os module has the following set of methods and constants."
      ],
      "metadata": {
        "id": "pNvt-CExXzOJ"
      }
    },
    {
      "cell_type": "markdown",
      "source": [
        "23. What are the challenges associated with memory management in Python?\n",
        "-> Challenges in Python memory management include:\n",
        "* Garbage Collection Overhead : Automatic garbage collection can cause performance hits.\n",
        "* Memory Leaks : Improper reference handling (e.g., circular references) can lead to leaks.\n",
        "* High Memory Usage : Objects stay in memory longer than expected due to dynamic typing.\n",
        "* Global Interpreter Lock (GIL) : Limits multi-threaded memory optimization.\n",
        "* Fragmentation : Frequent allocations and deallocations can cause memory fragmentation."
      ],
      "metadata": {
        "id": "EfU5JSSfX8Qq"
      }
    },
    {
      "cell_type": "markdown",
      "source": [
        "24. How do you raise an exception manually in Python?\n",
        "-> To manually raise an exception in Python, use the raise statement. Here is an example of how to use it: Copied! In this example, the calculate_payment function raises a ValueError exception if the payment_type is not either \"Visa\" or \"Mastercard\"."
      ],
      "metadata": {
        "id": "5yt5h24zYXke"
      }
    },
    {
      "cell_type": "markdown",
      "source": [
        "25. Why is it important to use multithreading in certain applications?\n",
        "-> Multithreading minimizes the time required for context switching compared to switching between separate processes, as threads within the same process share the same memory space and can switch more quickly. This results in reduced overhead and improved system responsiveness."
      ],
      "metadata": {
        "id": "AufUioudYiTT"
      }
    },
    {
      "cell_type": "markdown",
      "source": [
        "#Practical questions"
      ],
      "metadata": {
        "id": "glxh8suRYrdT"
      }
    },
    {
      "cell_type": "code",
      "source": [
        "# 1. How can you open a file for writing in Python and write a string to it?\n",
        "\n",
        "with open(\"file1.txt\", \"w\") as file:\n",
        "    file.write(\"Hello, World!\")"
      ],
      "metadata": {
        "id": "loncv-4IYvLC"
      },
      "execution_count": 30,
      "outputs": []
    },
    {
      "cell_type": "code",
      "source": [
        "# 2. Write a Python program to read the contents of a file and print each line.\n",
        "\n",
        "with open(\"file1.txt\", \"r\") as file:\n",
        "    for line in file:\n",
        "        print(line.strip())"
      ],
      "metadata": {
        "colab": {
          "base_uri": "https://localhost:8080/"
        },
        "id": "WynY389FaSgv",
        "outputId": "132dca0e-a4d5-411a-805d-ad2e132a2de2"
      },
      "execution_count": 32,
      "outputs": [
        {
          "output_type": "stream",
          "name": "stdout",
          "text": [
            "Hello, World!\n"
          ]
        }
      ]
    },
    {
      "cell_type": "code",
      "source": [
        "# 3. How would you handle a case where the file doesn't exist while trying to open it for reading?\n",
        "\n",
        "try:\n",
        "    with open(\"missing.txt\", \"r\") as file:\n",
        "        print(file.read())\n",
        "except FileNotFoundError:\n",
        "    print(\"File not found!\")"
      ],
      "metadata": {
        "colab": {
          "base_uri": "https://localhost:8080/"
        },
        "id": "n4KPGQTLaWcB",
        "outputId": "1972524a-04a8-415d-d379-02023010afb4"
      },
      "execution_count": 33,
      "outputs": [
        {
          "output_type": "stream",
          "name": "stdout",
          "text": [
            "File not found!\n"
          ]
        }
      ]
    },
    {
      "cell_type": "code",
      "source": [
        "# 4. Write a Python script that reads from one file and writes its content to another file?\n",
        "\n",
        "with open(\"output.txt\", \"r\") as src, open(\"destination.txt\", \"w\") as dest:\n",
        "    dest.write(src.read())"
      ],
      "metadata": {
        "id": "rNc2Ck7vaZjw"
      },
      "execution_count": 16,
      "outputs": []
    },
    {
      "cell_type": "code",
      "source": [
        "# 5. How would you catch and handle division by zero error in Python?\n",
        "\n",
        "try:\n",
        "    result = 10 / 0\n",
        "except ZeroDivisionError:\n",
        "    print(\"Cannot divide by zero!\")\n"
      ],
      "metadata": {
        "id": "OChEcSMXako9",
        "colab": {
          "base_uri": "https://localhost:8080/"
        },
        "outputId": "ee5aa08d-3953-4ca8-a1e5-8381d1bd09f6"
      },
      "execution_count": 17,
      "outputs": [
        {
          "output_type": "stream",
          "name": "stdout",
          "text": [
            "Cannot divide by zero!\n"
          ]
        }
      ]
    },
    {
      "cell_type": "code",
      "source": [
        "# 6. Write a Python program that logs an error message to a log file when a division by zero exception occurs?\n",
        "\n",
        "import logging\n",
        "\n",
        "logging.basicConfig(filename=\"error.log\", level=logging.ERROR)\n",
        "try:\n",
        "    result = 10 / 0\n",
        "except ZeroDivisionError as e:\n",
        "    logging.error(f\"Error: {e}\")"
      ],
      "metadata": {
        "id": "5xc5111WanAh",
        "colab": {
          "base_uri": "https://localhost:8080/"
        },
        "outputId": "692d82ff-ca9b-4aba-f877-6ac0e75e46c5"
      },
      "execution_count": 18,
      "outputs": [
        {
          "output_type": "stream",
          "name": "stderr",
          "text": [
            "ERROR:root:Error: division by zero\n"
          ]
        }
      ]
    },
    {
      "cell_type": "code",
      "source": [
        "# 7. How do you log information at different levels (INFO, ERROR, WARNING) in Python using the logging module?\n",
        "\n",
        "import logging\n",
        "\n",
        "logging.basicConfig(level=logging.DEBUG)\n",
        "logging.info(\"This is an INFO message.\")\n",
        "logging.warning(\"This is a WARNING message.\")\n",
        "logging.error(\"This is an ERROR message.\")"
      ],
      "metadata": {
        "id": "UHWWtk_paqR6",
        "colab": {
          "base_uri": "https://localhost:8080/"
        },
        "outputId": "3a998a79-08f7-4b2f-ed56-9d5d5635be27"
      },
      "execution_count": 19,
      "outputs": [
        {
          "output_type": "stream",
          "name": "stderr",
          "text": [
            "WARNING:root:This is a WARNING message.\n",
            "ERROR:root:This is an ERROR message.\n"
          ]
        }
      ]
    },
    {
      "cell_type": "code",
      "source": [
        "# 8. Write a program to handle a file opening error using exception handling?\n",
        "\n",
        "try:\n",
        "    with open(\"nonexistent.txt\", \"r\") as file:\n",
        "        content = file.read()\n",
        "except FileNotFoundError:\n",
        "    print(\"Error: File does not exist!\")"
      ],
      "metadata": {
        "id": "DFCFf5TEauA-",
        "colab": {
          "base_uri": "https://localhost:8080/"
        },
        "outputId": "96451f3b-6881-4d25-b1d3-bfbe34adf23e"
      },
      "execution_count": 20,
      "outputs": [
        {
          "output_type": "stream",
          "name": "stdout",
          "text": [
            "Error: File does not exist!\n"
          ]
        }
      ]
    },
    {
      "cell_type": "code",
      "source": [
        "# 9. How can you read a file line by line and store its content in a list in Python?\n",
        "\n",
        "with open(\"output.txt\", \"r\") as file:\n",
        "    lines = [line.strip() for line in file]\n",
        "print(lines)"
      ],
      "metadata": {
        "id": "DZ1Wls12awX_",
        "colab": {
          "base_uri": "https://localhost:8080/"
        },
        "outputId": "5981757d-90a3-439c-91f9-2145f46193bc"
      },
      "execution_count": 22,
      "outputs": [
        {
          "output_type": "stream",
          "name": "stdout",
          "text": [
            "['Hello, World!']\n"
          ]
        }
      ]
    },
    {
      "cell_type": "code",
      "source": [
        "# 10. How can you append data to an existing file in Python?\n",
        "\n",
        "with open(\"file1.txt\", \"a\") as file:\n",
        "    file.write(\"New log entry\\n\")"
      ],
      "metadata": {
        "id": "XEzqvR_naypT"
      },
      "execution_count": 34,
      "outputs": []
    },
    {
      "cell_type": "code",
      "source": [
        "# 11. Write a Python program that uses a try-except block to handle an error when attempting to access a dictionary key that doesn't exist?\n",
        "\n",
        "my_dict = {\"name\": \"Mohit\"}\n",
        "try:\n",
        "    print(my_dict[\"age\"])\n",
        "except KeyError:\n",
        "    print(\"Key not found!\")"
      ],
      "metadata": {
        "id": "DLozZfDMa05j",
        "colab": {
          "base_uri": "https://localhost:8080/"
        },
        "outputId": "3970fd2b-95c8-4366-9608-e1ccd6ce2141"
      },
      "execution_count": 24,
      "outputs": [
        {
          "output_type": "stream",
          "name": "stdout",
          "text": [
            "Key not found!\n"
          ]
        }
      ]
    },
    {
      "cell_type": "code",
      "source": [
        "# 12. Write a program that demonstrates using multiple except blocks to handle different types of exceptions?\n",
        "\n",
        "try:\n",
        "    x = 1 / 0\n",
        "except ZeroDivisionError:\n",
        "    print(\"Cannot divide by zero!\")\n",
        "except ValueError:\n",
        "    print(\"Invalid value!\")"
      ],
      "metadata": {
        "id": "hGW7csrla3JF",
        "colab": {
          "base_uri": "https://localhost:8080/"
        },
        "outputId": "838dff20-50a6-4a4c-8c13-b56ec924181a"
      },
      "execution_count": 25,
      "outputs": [
        {
          "output_type": "stream",
          "name": "stdout",
          "text": [
            "Cannot divide by zero!\n"
          ]
        }
      ]
    },
    {
      "cell_type": "code",
      "source": [
        "# 13. How would you check if a file exists before attempting to read it in Python?\n",
        "\n",
        "import os\n",
        "\n",
        "if os.path.exists(\"data.txt\"):\n",
        "    with open(\"data.txt\", \"r\") as file:\n",
        "        print(file.read())\n",
        "else:\n",
        "    print(\"File does not exist.\")"
      ],
      "metadata": {
        "id": "gcM8M3OWa6hJ",
        "colab": {
          "base_uri": "https://localhost:8080/"
        },
        "outputId": "dd1f760d-fab7-41e7-a74f-0cd7cb2db392"
      },
      "execution_count": 26,
      "outputs": [
        {
          "output_type": "stream",
          "name": "stdout",
          "text": [
            "File does not exist.\n"
          ]
        }
      ]
    },
    {
      "cell_type": "code",
      "source": [
        "# 14. Write a program that uses the logging module to log both informational and error messages?\n",
        "\n",
        "import logging\n",
        "\n",
        "logging.basicConfig(filename=\"app.log\", level=logging.INFO)\n",
        "logging.info(\"Application started\")\n",
        "try:\n",
        "    x = 1 / 0\n",
        "except ZeroDivisionError:\n",
        "    logging.error(\"Division by zero error!\")"
      ],
      "metadata": {
        "id": "couZeelSa81D",
        "colab": {
          "base_uri": "https://localhost:8080/"
        },
        "outputId": "f824d4c5-cbc3-48c1-b1ed-72a1e43913dd"
      },
      "execution_count": 27,
      "outputs": [
        {
          "output_type": "stream",
          "name": "stderr",
          "text": [
            "ERROR:root:Division by zero error!\n"
          ]
        }
      ]
    },
    {
      "cell_type": "code",
      "source": [
        "# 15. Write a Python program that prints the content of a file and handles the case when the file is empty?\n",
        "\n",
        "with open(\"data.txt\", \"w\") as file:\n",
        "  file.write(\"\")\n",
        "  file.close()\n",
        "\n",
        "with open(\"data.txt\", \"r\") as file:\n",
        "  content = file.read()\n",
        "  if not content:\n",
        "        print(\"File is empty!\")\n",
        "  else:\n",
        "        print(content)"
      ],
      "metadata": {
        "id": "NkPekcZka_Ce",
        "colab": {
          "base_uri": "https://localhost:8080/"
        },
        "outputId": "76ab7a05-5420-436f-c843-1964e686f777"
      },
      "execution_count": 45,
      "outputs": [
        {
          "output_type": "stream",
          "name": "stdout",
          "text": [
            "File is empty!\n"
          ]
        }
      ]
    },
    {
      "cell_type": "code",
      "source": [
        "# 16. Demonstrate how to use memory profiling to check the memory usage of a small program?\n",
        "\n",
        "from memory_profiler import profile\n",
        "\n",
        "@profile\n",
        "def my_function():\n",
        "    numbers = [i for i in range(100000)]\n",
        "    return sum(numbers)\n",
        "\n",
        "my_function()"
      ],
      "metadata": {
        "id": "3rw8Ht3BbB0A",
        "colab": {
          "base_uri": "https://localhost:8080/"
        },
        "outputId": "a0298450-d5ce-438c-854b-4792aa8dda84"
      },
      "execution_count": 59,
      "outputs": [
        {
          "output_type": "stream",
          "name": "stdout",
          "text": [
            "ERROR: Could not find file <ipython-input-59-111247dea3db>\n",
            "NOTE: %mprun can only be used on functions defined in physical files, and not in the IPython environment.\n"
          ]
        },
        {
          "output_type": "execute_result",
          "data": {
            "text/plain": [
              "4999950000"
            ]
          },
          "metadata": {},
          "execution_count": 59
        }
      ]
    },
    {
      "cell_type": "code",
      "source": [
        "# 17. Write a Python program to create and write a list of numbers to a file, one number per line?\n",
        "\n",
        "numbers = [1, 2, 3, 4, 5]\n",
        "with open(\"numbers.txt\", \"w\") as file:\n",
        "    for num in numbers:\n",
        "        file.write(f\"{num}\\n\")"
      ],
      "metadata": {
        "id": "SjQbCjeYbER0"
      },
      "execution_count": 60,
      "outputs": []
    },
    {
      "cell_type": "code",
      "source": [
        "# 18. How would you implement a basic logging setup that logs to a file with rotation after 1MB?\n",
        "\n",
        "import logging\n",
        "from logging.handlers import RotatingFileHandler\n",
        "\n",
        "handler = RotatingFileHandler(\"app.log\", maxBytes=1048576, backupCount=3)\n",
        "logging.basicConfig(handlers=[handler], level=logging.INFO)\n",
        "logging.info(\"Logging started\")"
      ],
      "metadata": {
        "id": "zPo5V_KUbGnB"
      },
      "execution_count": 61,
      "outputs": []
    },
    {
      "cell_type": "code",
      "source": [
        "# 19. Write a program that handles both IndexError and KeyError using a try-except block?\n",
        "\n",
        "try:\n",
        "    my_list = [1, 2, 3]\n",
        "    print(my_list[5])  # IndexError\n",
        "except IndexError:\n",
        "    print(\"Index out of range!\")\n",
        "\n",
        "try:\n",
        "    my_dict = {\"a\": 1}\n",
        "    print(my_dict[\"b\"])  # KeyError\n",
        "except KeyError:\n",
        "    print(\"Key not found!\")"
      ],
      "metadata": {
        "id": "WR9exwvLbI7d",
        "colab": {
          "base_uri": "https://localhost:8080/"
        },
        "outputId": "9b8cb296-67a7-42f7-f2f9-ec6d2db096d3"
      },
      "execution_count": 62,
      "outputs": [
        {
          "output_type": "stream",
          "name": "stdout",
          "text": [
            "Index out of range!\n",
            "Key not found!\n"
          ]
        }
      ]
    },
    {
      "cell_type": "code",
      "source": [
        "# 20. How would you open a file and read its contents using a context manager in Python?\n",
        "\n",
        "with open(\"data.txt\", \"r\") as file:\n",
        "    content = file.read()\n",
        "    print(content)"
      ],
      "metadata": {
        "id": "VMrz-JxbbLiX",
        "colab": {
          "base_uri": "https://localhost:8080/"
        },
        "outputId": "56a5d45f-ad5b-4b66-91ae-ba23d8aec009"
      },
      "execution_count": 63,
      "outputs": [
        {
          "output_type": "stream",
          "name": "stdout",
          "text": [
            "\n"
          ]
        }
      ]
    },
    {
      "cell_type": "code",
      "source": [
        "# 21. Write a Python program that reads a file and prints the number of occurrences of a specific word?\n",
        "\n",
        "word = \"python\"\n",
        "with open(\"text.txt\", \"w\") as file:\n",
        "  file.write(\"python\")\n",
        "  file.close()\n",
        "with open(\"text.txt\", \"r\") as file:\n",
        "  content = file.read()\n",
        "print(content.lower().split().count(word))"
      ],
      "metadata": {
        "id": "opqrGr7lbOSo",
        "colab": {
          "base_uri": "https://localhost:8080/"
        },
        "outputId": "31607b43-b4a1-4b4b-fc62-8abacf6c8fa1"
      },
      "execution_count": 65,
      "outputs": [
        {
          "output_type": "stream",
          "name": "stdout",
          "text": [
            "1\n"
          ]
        }
      ]
    },
    {
      "cell_type": "code",
      "source": [
        "# 22. How can you check if a file is empty before attempting to read its contents?\n",
        "\n",
        "import os\n",
        "\n",
        "if os.path.exists(\"data.txt\") and os.path.getsize(\"data.txt\") > 0:\n",
        "    print(\"File is not empty\")\n",
        "else:\n",
        "    print(\"File is empty or does not exist\")"
      ],
      "metadata": {
        "id": "OLcJ30ysbRBo",
        "colab": {
          "base_uri": "https://localhost:8080/"
        },
        "outputId": "d72ded81-e260-4175-8a9a-cfa725bc7aaf"
      },
      "execution_count": 66,
      "outputs": [
        {
          "output_type": "stream",
          "name": "stdout",
          "text": [
            "File is empty or does not exist\n"
          ]
        }
      ]
    },
    {
      "cell_type": "code",
      "source": [
        "# 23. Write a Python program that writes to a log file when an error occurs during file handling?\n",
        "\n",
        "import logging\n",
        "\n",
        "logging.basicConfig(filename=\"file_error.log\", level=logging.ERROR)\n",
        "try:\n",
        "    with open(\"missing.txt\", \"r\") as file:\n",
        "        print(file.read())\n",
        "except FileNotFoundError as e:\n",
        "    logging.error(f\"File error: {e}\")"
      ],
      "metadata": {
        "id": "FxWgQt_KbTgr",
        "colab": {
          "base_uri": "https://localhost:8080/"
        },
        "outputId": "cd00e685-2a67-4580-f3ff-e731f99040c8"
      },
      "execution_count": 67,
      "outputs": [
        {
          "output_type": "stream",
          "name": "stderr",
          "text": [
            "ERROR:root:File error: [Errno 2] No such file or directory: 'missing.txt'\n"
          ]
        }
      ]
    }
  ]
}